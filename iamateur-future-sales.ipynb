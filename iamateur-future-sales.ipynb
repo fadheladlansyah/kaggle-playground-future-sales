{
 "cells": [
  {
   "cell_type": "code",
   "execution_count": 1,
   "metadata": {},
   "outputs": [],
   "source": [
    "import numpy as np\n",
    "import pandas as pd\n",
    "import matplotlib.pyplot as plt\n",
    "import seaborn as sns"
   ]
  },
  {
   "cell_type": "code",
   "execution_count": 5,
   "metadata": {},
   "outputs": [],
   "source": [
    "train = pd.read_csv('sales_train_v2.csv', parse_dates=['date'],\n",
    "                    date_parser=lambda x: pd.to_datetime(x, format='%d.%m.%Y'))\n",
    "test = pd.read_csv('test.csv')\n",
    "items = pd.read_csv('items.csv')\n",
    "item_categories = pd.read_csv('item_categories.csv')\n",
    "shops = pd.read_csv('shops.csv')"
   ]
  },
  {
   "cell_type": "code",
   "execution_count": 18,
   "metadata": {},
   "outputs": [],
   "source": [
    "def eda(data):\n",
    "    print(\"---------------------------------------------------Data Head----------------------------------------------------\")\n",
    "    print(data.head(5))\n",
    "    print(\"---------------------------------------------------Information--------------------------------------------------\")\n",
    "    print(data.info())\n",
    "    print(\"---------------------------------------------------Data Types---------------------------------------------------\")\n",
    "    print(data.dtypes)\n",
    "    print(\"---------------------------------------------------Missing value------------------------------------------------\")\n",
    "    print(data.isnull().sum())\n",
    "    print(\"---------------------------------------------------Null value---------------------------------------------------\")\n",
    "    print(data.isna().sum())\n",
    "    print(\"---------------------------------------------------Shape of Data------------------------------------------------\")\n",
    "    print(data.shape)"
   ]
  },
  {
   "cell_type": "code",
   "execution_count": 19,
   "metadata": {
    "collapsed": true
   },
   "outputs": [
    {
     "name": "stdout",
     "output_type": "stream",
     "text": [
      "---------------------------------------------------Data Head----------------------------------------------------\n",
      "        date  date_block_num  shop_id  item_id  item_price  item_cnt_day\n",
      "0 2013-01-02               0       59    22154      999.00           1.0\n",
      "1 2013-01-03               0       25     2552      899.00           1.0\n",
      "2 2013-01-05               0       25     2552      899.00          -1.0\n",
      "3 2013-01-06               0       25     2554     1709.05           1.0\n",
      "4 2013-01-15               0       25     2555     1099.00           1.0\n",
      "---------------------------------------------------Information--------------------------------------------------\n",
      "<class 'pandas.core.frame.DataFrame'>\n",
      "RangeIndex: 2935849 entries, 0 to 2935848\n",
      "Data columns (total 6 columns):\n",
      "date              datetime64[ns]\n",
      "date_block_num    int64\n",
      "shop_id           int64\n",
      "item_id           int64\n",
      "item_price        float64\n",
      "item_cnt_day      float64\n",
      "dtypes: datetime64[ns](1), float64(2), int64(3)\n",
      "memory usage: 134.4 MB\n",
      "None\n",
      "---------------------------------------------------Data Types---------------------------------------------------\n",
      "date              datetime64[ns]\n",
      "date_block_num             int64\n",
      "shop_id                    int64\n",
      "item_id                    int64\n",
      "item_price               float64\n",
      "item_cnt_day             float64\n",
      "dtype: object\n",
      "---------------------------------------------------Missing value------------------------------------------------\n",
      "date              0\n",
      "date_block_num    0\n",
      "shop_id           0\n",
      "item_id           0\n",
      "item_price        0\n",
      "item_cnt_day      0\n",
      "dtype: int64\n",
      "---------------------------------------------------Null value---------------------------------------------------\n",
      "date              0\n",
      "date_block_num    0\n",
      "shop_id           0\n",
      "item_id           0\n",
      "item_price        0\n",
      "item_cnt_day      0\n",
      "dtype: int64\n",
      "---------------------------------------------------Shape of Data------------------------------------------------\n",
      "(2935849, 6)\n"
     ]
    }
   ],
   "source": [
    "eda(train)"
   ]
  },
  {
   "cell_type": "code",
   "execution_count": 20,
   "metadata": {
    "collapsed": true
   },
   "outputs": [
    {
     "name": "stdout",
     "output_type": "stream",
     "text": [
      "---------------------------------------------------Data Head----------------------------------------------------\n",
      "   ID  shop_id  item_id\n",
      "0   0        5     5037\n",
      "1   1        5     5320\n",
      "2   2        5     5233\n",
      "3   3        5     5232\n",
      "4   4        5     5268\n",
      "---------------------------------------------------Information--------------------------------------------------\n",
      "<class 'pandas.core.frame.DataFrame'>\n",
      "RangeIndex: 214200 entries, 0 to 214199\n",
      "Data columns (total 3 columns):\n",
      "ID         214200 non-null int64\n",
      "shop_id    214200 non-null int64\n",
      "item_id    214200 non-null int64\n",
      "dtypes: int64(3)\n",
      "memory usage: 4.9 MB\n",
      "None\n",
      "---------------------------------------------------Data Types---------------------------------------------------\n",
      "ID         int64\n",
      "shop_id    int64\n",
      "item_id    int64\n",
      "dtype: object\n",
      "---------------------------------------------------Missing value------------------------------------------------\n",
      "ID         0\n",
      "shop_id    0\n",
      "item_id    0\n",
      "dtype: int64\n",
      "---------------------------------------------------Null value---------------------------------------------------\n",
      "ID         0\n",
      "shop_id    0\n",
      "item_id    0\n",
      "dtype: int64\n",
      "---------------------------------------------------Shape of Data------------------------------------------------\n",
      "(214200, 3)\n"
     ]
    }
   ],
   "source": [
    "eda(test)"
   ]
  },
  {
   "cell_type": "code",
   "execution_count": 21,
   "metadata": {
    "collapsed": true
   },
   "outputs": [
    {
     "name": "stdout",
     "output_type": "stream",
     "text": [
      "---------------------------------------------------Data Head----------------------------------------------------\n",
      "                                           item_name  item_id  \\\n",
      "0          ! ВО ВЛАСТИ НАВАЖДЕНИЯ (ПЛАСТ.)         D        0   \n",
      "1  !ABBYY FineReader 12 Professional Edition Full...        1   \n",
      "2      ***В ЛУЧАХ СЛАВЫ   (UNV)                    D        2   \n",
      "3    ***ГОЛУБАЯ ВОЛНА  (Univ)                      D        3   \n",
      "4        ***КОРОБКА (СТЕКЛО)                       D        4   \n",
      "\n",
      "   item_category_id  \n",
      "0                40  \n",
      "1                76  \n",
      "2                40  \n",
      "3                40  \n",
      "4                40  \n",
      "---------------------------------------------------Information--------------------------------------------------\n",
      "<class 'pandas.core.frame.DataFrame'>\n",
      "RangeIndex: 22170 entries, 0 to 22169\n",
      "Data columns (total 3 columns):\n",
      "item_name           22170 non-null object\n",
      "item_id             22170 non-null int64\n",
      "item_category_id    22170 non-null int64\n",
      "dtypes: int64(2), object(1)\n",
      "memory usage: 519.7+ KB\n",
      "None\n",
      "---------------------------------------------------Data Types---------------------------------------------------\n",
      "item_name           object\n",
      "item_id              int64\n",
      "item_category_id     int64\n",
      "dtype: object\n",
      "---------------------------------------------------Missing value------------------------------------------------\n",
      "item_name           0\n",
      "item_id             0\n",
      "item_category_id    0\n",
      "dtype: int64\n",
      "---------------------------------------------------Null value---------------------------------------------------\n",
      "item_name           0\n",
      "item_id             0\n",
      "item_category_id    0\n",
      "dtype: int64\n",
      "---------------------------------------------------Shape of Data------------------------------------------------\n",
      "(22170, 3)\n"
     ]
    }
   ],
   "source": [
    "eda(items)"
   ]
  },
  {
   "cell_type": "code",
   "execution_count": 22,
   "metadata": {
    "collapsed": true
   },
   "outputs": [
    {
     "name": "stdout",
     "output_type": "stream",
     "text": [
      "---------------------------------------------------Data Head----------------------------------------------------\n",
      "        item_category_name  item_category_id\n",
      "0  PC - Гарнитуры/Наушники                 0\n",
      "1         Аксессуары - PS2                 1\n",
      "2         Аксессуары - PS3                 2\n",
      "3         Аксессуары - PS4                 3\n",
      "4         Аксессуары - PSP                 4\n",
      "---------------------------------------------------Information--------------------------------------------------\n",
      "<class 'pandas.core.frame.DataFrame'>\n",
      "RangeIndex: 84 entries, 0 to 83\n",
      "Data columns (total 2 columns):\n",
      "item_category_name    84 non-null object\n",
      "item_category_id      84 non-null int64\n",
      "dtypes: int64(1), object(1)\n",
      "memory usage: 1.4+ KB\n",
      "None\n",
      "---------------------------------------------------Data Types---------------------------------------------------\n",
      "item_category_name    object\n",
      "item_category_id       int64\n",
      "dtype: object\n",
      "---------------------------------------------------Missing value------------------------------------------------\n",
      "item_category_name    0\n",
      "item_category_id      0\n",
      "dtype: int64\n",
      "---------------------------------------------------Null value---------------------------------------------------\n",
      "item_category_name    0\n",
      "item_category_id      0\n",
      "dtype: int64\n",
      "---------------------------------------------------Shape of Data------------------------------------------------\n",
      "(84, 2)\n"
     ]
    }
   ],
   "source": [
    "eda(item_categories)"
   ]
  },
  {
   "cell_type": "code",
   "execution_count": 23,
   "metadata": {
    "collapsed": true
   },
   "outputs": [
    {
     "name": "stdout",
     "output_type": "stream",
     "text": [
      "---------------------------------------------------Data Head----------------------------------------------------\n",
      "                        shop_name  shop_id\n",
      "0   !Якутск Орджоникидзе, 56 фран        0\n",
      "1   !Якутск ТЦ \"Центральный\" фран        1\n",
      "2                Адыгея ТЦ \"Мега\"        2\n",
      "3  Балашиха ТРК \"Октябрь-Киномир\"        3\n",
      "4        Волжский ТЦ \"Волга Молл\"        4\n",
      "---------------------------------------------------Information--------------------------------------------------\n",
      "<class 'pandas.core.frame.DataFrame'>\n",
      "RangeIndex: 60 entries, 0 to 59\n",
      "Data columns (total 2 columns):\n",
      "shop_name    60 non-null object\n",
      "shop_id      60 non-null int64\n",
      "dtypes: int64(1), object(1)\n",
      "memory usage: 1.0+ KB\n",
      "None\n",
      "---------------------------------------------------Data Types---------------------------------------------------\n",
      "shop_name    object\n",
      "shop_id       int64\n",
      "dtype: object\n",
      "---------------------------------------------------Missing value------------------------------------------------\n",
      "shop_name    0\n",
      "shop_id      0\n",
      "dtype: int64\n",
      "---------------------------------------------------Null value---------------------------------------------------\n",
      "shop_name    0\n",
      "shop_id      0\n",
      "dtype: int64\n",
      "---------------------------------------------------Shape of Data------------------------------------------------\n",
      "(60, 2)\n"
     ]
    }
   ],
   "source": [
    "eda(shops)"
   ]
  },
  {
   "cell_type": "code",
   "execution_count": null,
   "metadata": {},
   "outputs": [],
   "source": []
  }
 ],
 "metadata": {
  "kernelspec": {
   "display_name": "Python 3",
   "language": "python",
   "name": "python3"
  },
  "language_info": {
   "codemirror_mode": {
    "name": "ipython",
    "version": 3
   },
   "file_extension": ".py",
   "mimetype": "text/x-python",
   "name": "python",
   "nbconvert_exporter": "python",
   "pygments_lexer": "ipython3",
   "version": "3.7.3"
  }
 },
 "nbformat": 4,
 "nbformat_minor": 2
}
